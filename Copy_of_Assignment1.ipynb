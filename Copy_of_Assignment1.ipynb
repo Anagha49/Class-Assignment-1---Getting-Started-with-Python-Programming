{
  "nbformat": 4,
  "nbformat_minor": 0,
  "metadata": {
    "colab": {
      "name": "Copy of Assignment1.ipynb",
      "provenance": [],
      "collapsed_sections": [],
      "authorship_tag": "ABX9TyO5GsVNwWsLlBE6ikuDfQHZ",
      "include_colab_link": true
    },
    "kernelspec": {
      "name": "python3",
      "display_name": "Python 3"
    }
  },
  "cells": [
    {
      "cell_type": "markdown",
      "metadata": {
        "id": "view-in-github",
        "colab_type": "text"
      },
      "source": [
        "<a href=\"https://colab.research.google.com/github/Anagha49/Class-Assignment-1---Getting-Started-with-Python-Programming/blob/master/Copy_of_Assignment1.ipynb\" target=\"_parent\"><img src=\"https://colab.research.google.com/assets/colab-badge.svg\" alt=\"Open In Colab\"/></a>"
      ]
    },
    {
      "cell_type": "code",
      "metadata": {
        "id": "vz9w8o__YiOZ",
        "colab_type": "code",
        "colab": {
          "base_uri": "https://localhost:8080/",
          "height": 68
        },
        "outputId": "5b3c68b0-34f2-4ad5-8c75-3804d7ef17d8"
      },
      "source": [
        " Name=\"Anagha\"\n",
        "Address=\"Athiyamboor,Kanhnagad\"\n",
        "Telephone_number=\"9998888111\"\n",
        "print(\"Name:\"+Name+\"\\n\", \"Address:\"+Address+\"\\n\",\"Telephone number:\"+Telephone_number)"
      ],
      "execution_count": null,
      "outputs": [
        {
          "output_type": "stream",
          "text": [
            "Name:Anagha\n",
            " Address:Athiyamboor,Kanhnagad\n",
            " Telephone number:9998888111\n"
          ],
          "name": "stdout"
        }
      ]
    },
    {
      "cell_type": "code",
      "metadata": {
        "id": "SS4pNDzNZL-e",
        "colab_type": "code",
        "colab": {
          "base_uri": "https://localhost:8080/",
          "height": 34
        },
        "outputId": "9d2ff1bf-97a7-461d-e217-cf3527b1228a"
      },
      "source": [
        "name=\"Anagha\"\n",
        "print(\"your name is\",name)"
      ],
      "execution_count": null,
      "outputs": [
        {
          "output_type": "stream",
          "text": [
            "your name is Anagha\n"
          ],
          "name": "stdout"
        }
      ]
    },
    {
      "cell_type": "markdown",
      "metadata": {
        "id": "GtC9Uas8Z_vQ",
        "colab_type": "text"
      },
      "source": [
        ""
      ]
    },
    {
      "cell_type": "code",
      "metadata": {
        "id": "VdD60iv2aAQY",
        "colab_type": "code",
        "colab": {
          "base_uri": "https://localhost:8080/",
          "height": 70
        },
        "outputId": "0b9a0cd1-8454-4352-fdfb-22eb37b5fb7f"
      },
      "source": [
        "#Area of a rectangle\n",
        "width=int(input(\"enter the width:\"))\n",
        "height=int(input(\"enter the height:\"))\n",
        "Area=width*height\n",
        "print(\"the Area is\",Area,\"square units\")"
      ],
      "execution_count": null,
      "outputs": [
        {
          "output_type": "stream",
          "text": [
            "enter the width:10\n",
            "enter the height:2\n",
            "the Area is 20 square units\n"
          ],
          "name": "stdout"
        }
      ]
    },
    {
      "cell_type": "code",
      "metadata": {
        "id": "GQiX3qSsbTun",
        "colab_type": "code",
        "colab": {
          "base_uri": "https://localhost:8080/",
          "height": 70
        },
        "outputId": "1433cd5f-633b-4a60-d557-e4d116590513"
      },
      "source": [
        "#area of a triangle\n",
        "base=int(input(\"enter the base:\"))\n",
        "height=int(input(\"enter the height:\"))\n",
        "area=.5*base*height\n",
        "print(\"the area is\",area,\"square units\")"
      ],
      "execution_count": null,
      "outputs": [
        {
          "output_type": "stream",
          "text": [
            "enter the base:8\n",
            "enter the height:6\n",
            "the area is 24.0 square units\n"
          ],
          "name": "stdout"
        }
      ]
    },
    {
      "cell_type": "code",
      "metadata": {
        "id": "hSrVeVcZcys2",
        "colab_type": "code",
        "colab": {
          "base_uri": "https://localhost:8080/",
          "height": 53
        },
        "outputId": "d7db6356-a9e8-408f-e0be-e783e90d2f12"
      },
      "source": [
        "#area of a circle \n",
        "radius=int(input(\"enter the radius:\"))\n",
        "area=3.14*radius**2\n",
        "print(\"the area is\",area,\"square units\")"
      ],
      "execution_count": null,
      "outputs": [
        {
          "output_type": "stream",
          "text": [
            "enter the radius:2\n",
            "the area is 12.56 square units\n"
          ],
          "name": "stdout"
        }
      ]
    },
    {
      "cell_type": "code",
      "metadata": {
        "id": "f2LpSfl_ddkj",
        "colab_type": "code",
        "colab": {
          "base_uri": "https://localhost:8080/",
          "height": 70
        },
        "outputId": "9a663d6a-af71-4a0e-d64a-6f505f5ce0e1"
      },
      "source": [
        "Name=input(\"enter your name:\")\n",
        "age=input(\"enter your age :\")\n",
        "print(\"my name is\"+name,\"and my age is\"+age)"
      ],
      "execution_count": null,
      "outputs": [
        {
          "output_type": "stream",
          "text": [
            "enter your name:Anagha V\n",
            "enter your age :18\n",
            "my name isAnagha and my age is18\n"
          ],
          "name": "stdout"
        }
      ]
    },
    {
      "cell_type": "code",
      "metadata": {
        "id": "8YQu_TrkeYTa",
        "colab_type": "code",
        "colab": {
          "base_uri": "https://localhost:8080/",
          "height": 53
        },
        "outputId": "bab78ab9-f5ff-408e-aeb4-1b25dcfc0c2d"
      },
      "source": [
        "a=int(input(\"enter a number:\"))\n",
        "a=a+1 \n",
        "print(a)"
      ],
      "execution_count": null,
      "outputs": [
        {
          "output_type": "stream",
          "text": [
            "enter a number:5\n",
            "6\n"
          ],
          "name": "stdout"
        }
      ]
    },
    {
      "cell_type": "code",
      "metadata": {
        "id": "beGIkBnMeyK5",
        "colab_type": "code",
        "colab": {
          "base_uri": "https://localhost:8080/",
          "height": 53
        },
        "outputId": "84cda03d-730d-4cc0-dee4-e96c4e4d9ef4"
      },
      "source": [
        "name=input(\"enter your first name:\")\n",
        "print(name)"
      ],
      "execution_count": null,
      "outputs": [
        {
          "output_type": "stream",
          "text": [
            "enter your first name:Anagha\n",
            "Anagha\n"
          ],
          "name": "stdout"
        }
      ]
    },
    {
      "cell_type": "code",
      "metadata": {
        "id": "HqFtVaKSfLEY",
        "colab_type": "code",
        "colab": {
          "base_uri": "https://localhost:8080/",
          "height": 53
        },
        "outputId": "045a41d1-1548-4585-c0e3-72da07f57bf3"
      },
      "source": [
        "input(\"enter your first name:\")"
      ],
      "execution_count": null,
      "outputs": [
        {
          "output_type": "stream",
          "text": [
            "enter your first name:Anagha\n"
          ],
          "name": "stdout"
        },
        {
          "output_type": "execute_result",
          "data": {
            "application/vnd.google.colaboratory.intrinsic+json": {
              "type": "string"
            },
            "text/plain": [
              "'Anagha'"
            ]
          },
          "metadata": {
            "tags": []
          },
          "execution_count": 19
        }
      ]
    },
    {
      "cell_type": "code",
      "metadata": {
        "id": "UmyMVDw9finb",
        "colab_type": "code",
        "colab": {}
      },
      "source": [
        ""
      ],
      "execution_count": null,
      "outputs": []
    }
  ]
}